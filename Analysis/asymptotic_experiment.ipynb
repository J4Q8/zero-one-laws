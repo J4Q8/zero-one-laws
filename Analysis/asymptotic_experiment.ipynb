{
 "cells": [
  {
   "cell_type": "code",
   "execution_count": 1,
   "metadata": {},
   "outputs": [],
   "source": [
    "import pandas as pd\n",
    "import numpy as np"
   ]
  },
  {
   "cell_type": "code",
   "execution_count": 2,
   "metadata": {},
   "outputs": [],
   "source": [
    "df = pd.read_excel(r\"C:\\Users\\jakub\\Documents\\Bachelor AI\\Bachelor Thesis\\Code\\Analysis\\dataset.xlsx\")"
   ]
  },
  {
   "cell_type": "code",
   "execution_count": 3,
   "metadata": {},
   "outputs": [],
   "source": [
    "languages = [\"GL\", \"S4\", \"K4\"]\n",
    "# structure = [\"frame\", \"model\"]\n",
    "structure = [\"model\"] # we only need models for this\n",
    "emp_val = [f'empirical_val_{a}_{b}' for a in languages for b in structure]\n",
    "\n",
    "asymptotic = \"asymptotic_model_val\"\n",
    "asymptotic_lan = [asymptotic+f\"_{l}\" for l in languages]"
   ]
  },
  {
   "cell_type": "code",
   "execution_count": 4,
   "metadata": {},
   "outputs": [
    {
     "ename": "SyntaxError",
     "evalue": "invalid syntax (Temp/ipykernel_22088/3827078432.py, line 4)",
     "output_type": "error",
     "traceback": [
      "\u001b[1;36m  File \u001b[1;32m\"C:\\Users\\jakub\\AppData\\Local\\Temp/ipykernel_22088/3827078432.py\"\u001b[1;36m, line \u001b[1;32m4\u001b[0m\n\u001b[1;33m    print(l, df[emp].equals(df[]))\u001b[0m\n\u001b[1;37m                               ^\u001b[0m\n\u001b[1;31mSyntaxError\u001b[0m\u001b[1;31m:\u001b[0m invalid syntax\n"
     ]
    }
   ],
   "source": [
    "for l in languages:\n",
    "    emp = f'empirical_val_{l}_model' \n",
    "    asymptotic_l = asymptotic+f\"_{l}\"\n",
    "    print(l, df[emp].equals(df[asymptotic_l]))"
   ]
  }
 ],
 "metadata": {
  "kernelspec": {
   "display_name": "Python 3.9.1 64-bit",
   "language": "python",
   "name": "python3"
  },
  "language_info": {
   "codemirror_mode": {
    "name": "ipython",
    "version": 3
   },
   "file_extension": ".py",
   "mimetype": "text/x-python",
   "name": "python",
   "nbconvert_exporter": "python",
   "pygments_lexer": "ipython3",
   "version": "3.9.1"
  },
  "orig_nbformat": 4,
  "vscode": {
   "interpreter": {
    "hash": "a368a523ba5a00a25de60f58318ede078a18246629857802cd48bbbe3c0e8e59"
   }
  }
 },
 "nbformat": 4,
 "nbformat_minor": 2
}
