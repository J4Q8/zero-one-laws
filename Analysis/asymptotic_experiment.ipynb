{
 "cells": [
  {
   "cell_type": "code",
   "execution_count": 1,
   "metadata": {},
   "outputs": [],
   "source": [
    "import pandas as pd\n",
    "import numpy as np"
   ]
  },
  {
   "cell_type": "code",
   "execution_count": 2,
   "metadata": {},
   "outputs": [],
   "source": [
    "df = pd.read_excel(r\"C:\\Users\\jakub\\Documents\\Bachelor AI\\Bachelor Thesis\\Code\\Analysis\\dataset.xlsx\")"
   ]
  },
  {
   "cell_type": "code",
   "execution_count": 3,
   "metadata": {},
   "outputs": [],
   "source": [
    "languages = [\"GL\", \"S4\", \"K4\"]\n",
    "# structure = [\"frame\", \"model\"]\n",
    "structure = [\"model\"] # we only need models for this\n",
    "emp_val = [f'empirical_val_{a}_{b}' for a in languages for b in structure]\n",
    "\n",
    "asymptotic = \"asymptotic_model_val\"\n",
    "asymptotic_lan = [asymptotic+f\"_{l}\" for l in languages]"
   ]
  },
  {
   "cell_type": "code",
   "execution_count": 21,
   "metadata": {},
   "outputs": [
    {
     "name": "stdout",
     "output_type": "stream",
     "text": [
      "GL True\n",
      "S4 True\n",
      "K4 False\n"
     ]
    }
   ],
   "source": [
    "for l in languages:\n",
    "    emp = f'empirical_val_{l}_model' \n",
    "    asymptotic_l = asymptotic+f\"_{l}\"\n",
    "    print(l, df[emp].equals(df[asymptotic_l]))"
   ]
  },
  {
   "cell_type": "code",
   "execution_count": 5,
   "metadata": {},
   "outputs": [
    {
     "name": "stdout",
     "output_type": "stream",
     "text": [
      "1  ¬ ( ( ◇ ¬ ( p ↔ q ) ↔ q ) ∧ ( ◻ ( q ∨ ( ¬ ( ◇ ¬ q ∨ p ) ∨ ◻ ◇ p ) ) ∧ ( ¬ ( ◻ ¬ q ∨ ( ◻ ◇ ¬ p ∨ ( ◻ ⊥ ∨ ( ( ( ◇ ¬ p ∧ ( p ∧ ¬ ( p ∧ q ) ) ) ↔ q ) ∨ ¬ ( q ∨ ( p ∨ ◇ ◻ ⊥ ) ) ) ) ) ) ∧ ( ◻ ( ( p ∨ ( ◻ ◇ q ∨ ¬ q ) ) → ( ◻ ( p ∧ ◇ ⊤ ) ∨ p ) ) → ◻ ◻ ¬ p ) ) ) )\n",
      "2 ( ◇ ◇ ⊤ ∧ ( ◇ ( ◻ ⊥ ∧ p ) ∧ ◇ ( ◻ ⊥ ∧ q ) ) ) → ◇ ( ◇ p ∧ ◇ q )\n",
      "3 ( ◇ ◇ ⊤ ∧ ( ◇ ( ◻ ⊥ ∧ p ) ∧ ◇ ( ◻ ⊥ ∧ ¬ q ) ) ) → ◇ ( ◇ p ∧ ◇ ¬ q )\n",
      "4 ( ◇ ◇ ⊤ ∧ ( ◇ ( ◻ ⊥ ∧ ¬ p ) ∧ ◇ ( ◻ ⊥ ∧ q ) ) ) → ◇ ( ◇ ¬ p ∧ ◇ q )\n",
      "5 ( ◇ ◇ ⊤ ∧ ( ◇ ( ◻ ⊥ ∧ ¬ p ) ∧ ◇ ( ◻ ⊥ ∧ ¬ q ) ) ) → ◇ ( ◇ ¬ p ∧ ◇ ¬ q )\n"
     ]
    }
   ],
   "source": [
    "l = \"K4\"\n",
    "emp = f'empirical_val_{l}_model' \n",
    "asymptotic_l = asymptotic+f\"_{l}\"\n",
    "count = 0\n",
    "for index, row in df.iterrows():\n",
    "    if row[emp] != row[asymptotic_l]:\n",
    "        count += 1\n",
    "        # print(row[\"formula\"], row[emp], row[asymptotic_l])\n",
    "        print(count, row[\"formula\"])"
   ]
  },
  {
   "cell_type": "code",
   "execution_count": null,
   "metadata": {},
   "outputs": [],
   "source": []
  }
 ],
 "metadata": {
  "kernelspec": {
   "display_name": "Python 3.9.1 64-bit",
   "language": "python",
   "name": "python3"
  },
  "language_info": {
   "codemirror_mode": {
    "name": "ipython",
    "version": 3
   },
   "file_extension": ".py",
   "mimetype": "text/x-python",
   "name": "python",
   "nbconvert_exporter": "python",
   "pygments_lexer": "ipython3",
   "version": "3.9.1"
  },
  "orig_nbformat": 4,
  "vscode": {
   "interpreter": {
    "hash": "a368a523ba5a00a25de60f58318ede078a18246629857802cd48bbbe3c0e8e59"
   }
  }
 },
 "nbformat": 4,
 "nbformat_minor": 2
}
