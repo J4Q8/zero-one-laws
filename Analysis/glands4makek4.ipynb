{
 "cells": [
  {
   "cell_type": "code",
   "execution_count": 1,
   "metadata": {},
   "outputs": [],
   "source": [
    "import pandas as pd\n",
    "import numpy as np\n",
    "df = pd.read_excel(r\"C:\\Users\\jakub\\Documents\\Bachelor AI\\Bachelor Thesis\\Code\\Analysis\\dataset.xlsx\")"
   ]
  },
  {
   "cell_type": "code",
   "execution_count": 2,
   "metadata": {},
   "outputs": [],
   "source": [
    "languages = [\"GL\", \"S4\", \"K4\"]\n",
    "structure = [\"frame\", \"model\"]\n",
    "# structure = [\"model\"] # we only need models for this\n",
    "emp_val = [f'empirical_val_{a}_{b}' for a in languages for b in structure]\n",
    "\n",
    "asymptotic = \"asymptotic_model_val\"\n",
    "asymptotic_lan = [asymptotic+f\"_{l}\" for l in languages]\n",
    "taut = \"tautology\""
   ]
  },
  {
   "cell_type": "code",
   "execution_count": 9,
   "metadata": {},
   "outputs": [
    {
     "data": {
      "text/plain": [
       "['model']"
      ]
     },
     "execution_count": 9,
     "metadata": {},
     "output_type": "execute_result"
    }
   ],
   "source": [
    "structure[1:2]"
   ]
  },
  {
   "cell_type": "code",
   "execution_count": 10,
   "metadata": {},
   "outputs": [
    {
     "name": "stdout",
     "output_type": "stream",
     "text": [
      "1  ( ◇ p ∧ ( ( ◇ ◻ q → ◇ ( p ∧ ( ( ( p ∧ q ) ∨ ¬ p ) ∧ ◇ ◇ p ) ) ) → ( ( ( q ∨ ( ◻ q ↔ p ) ) → ( ( q ∨ ( ◇ ⊤ ∨ ( ¬ p ↔ ¬ q ) ) ) ∧ ◇ q ) ) ∧ ( ◻ p ∧ ( ( ◇ ¬ p ∨ ◇ ( q ↔ p ) ) ∧ q ) ) ) ) ) ∨ ¬ ( ◇ ◻ ◻ ( ¬ p ∧ ◇ p ) ∧ ( ( ◻ ( ¬ q ∨ ( p → q ) ) → ◇ p ) ∧ ( ¬ p ∧ ¬ q ) ) )\n",
      "2  ¬ ( ◇ ⊤ ↔ ( ◻ ⊥ ↔ ( ( ¬ p ∨ ◻ ⊥ ) ↔ ◇ ( q → ¬ p ) ) ) ) ∨ ◻ ◻ ◻ ◻ ( ◇ ⊤ ∨ ¬ ( q ∧ p ) )\n",
      "3  ( ( ◇ ( p ↔ ◻ p ) ∧ ( ◻ ◻ ◇ ¬ q ∧ ( q → ◇ ⊤ ) ) ) → ◻ ⊥ ) ∨ ( q → ◻ ( ( ( ¬ q → p ) ∧ ◇ ◻ ⊥ ) ↔ ◇ ⊤ ) )\n",
      "4  ◇ ( ( ◻ ◻ q ∨ ( ( ( ◻ ◻ ◇ q → ( ◇ p ∨ ¬ q ) ) ↔ ( ¬ p ∨ ( ◇ p → ¬ p ) ) ) ∨ ◻ ⊥ ) ) ∧ p ) ∨ ◻ ( ( ◇ ⊤ ∨ q ) → ◇ ( p ∨ ¬ ( q ∧ ◻ ⊥ ) ) )\n",
      "5  ◻ ◻ ( ◇ ( ( ◇ ¬ ( ¬ q ∨ ◇ q ) ∨ q ) ∧ p ) ∨ ( ( ◇ ( ¬ p ∧ ◻ ⊥ ) ∧ ¬ p ) → ◻ ⊥ ) )\n",
      "6  ◇ ◻ ⊥ → ( ◇ ◇ ◻ ◇ ( ( p ↔ q ) ∧ ◇ q ) ∨ ¬ ( ◻ ¬ ( ◻ ( ¬ q ∧ ◻ ⊥ ) ↔ ( ◇ ◻ ◇ p ↔ ◻ q ) ) → ¬ ( ( ◇ ◇ ◇ ¬ q ∧ ( p → ◇ p ) ) → ◻ ¬ ( q ∨ p ) ) ) )\n",
      "7  ◻ ( ( ◇ ⊤ ∧ ◇ ( q ∨ ( ( ¬ p ∧ ( ( p → q ) ∨ ◻ ⊥ ) ) ∨ ◇ ¬ q ) ) ) ∨ q ) ∨ ◇ ¬ ( ¬ ( ¬ p ∧ ◇ ⊤ ) ↔ ( ( ¬ p ↔ ( q ∧ ( ◻ ¬ p ∧ ◻ p ) ) ) ∨ ◇ ◻ ⊥ ) )\n",
      "8  ◇ ( ( q ∨ ( ( p ∨ ◇ ¬ p ) → ◇ q ) ) ∧ p ) ∨ ( p ∨ ◻ ( ◻ ◇ ( ( ¬ ( q ↔ p ) ↔ p ) ∨ ( q ∨ ◻ ( ( p ∧ q ) → ◇ ¬ p ) ) ) ∨ ( q ↔ ( ( ( p ∧ ( ¬ q → q ) ) → ( ( q ∧ p ) ∨ p ) ) ↔ ◻ ⊥ ) ) ) )\n",
      "9  ( ◇ ⊤ ↔ ◇ ◇ p ) ∨ ( ( ¬ ( ( p ↔ ( ( q ∧ ( ◇ q ∨ q ) ) ↔ ( ( p → ( ¬ q ∧ ¬ p ) ) ↔ ( q ↔ ( ¬ q ∨ ◇ ¬ p ) ) ) ) ) → ◇ ⊤ ) ∨ ◇ ⊤ ) ↔ ( ¬ ( ◻ ◻ ¬ ( q → ◻ ⊥ ) ∧ ◇ ¬ p ) ↔ ( ( p ∨ ◇ ¬ ( p ↔ q ) ) → ( p ∧ ( ¬ ( ( q ↔ ( ◇ p ∨ ◻ ( q ↔ p ) ) ) ∨ ¬ q ) ∧ ◻ ¬ q ) ) ) ) )\n"
     ]
    }
   ],
   "source": [
    "valid_but_not_yet_valid = [\" ¬ ( ( ◇ ¬ ( p ↔ q ) ↔ q ) ∧ ( ◻ ( q ∨ ( ¬ ( ◇ ¬ q ∨ p ) ∨ ◻ ◇ p ) ) ∧ ( ¬ ( ◻ ¬ q ∨ ( ◻ ◇ ¬ p ∨ ( ◻ ⊥ ∨ ( ( ( ◇ ¬ p ∧ ( p ∧ ¬ ( p ∧ q ) ) ) ↔ q ) ∨ ¬ ( q ∨ ( p ∨ ◇ ◻ ⊥ ) ) ) ) ) ) ∧ ( ◻ ( ( p ∨ ( ◻ ◇ q ∨ ¬ q ) ) → ( ◻ ( p ∧ ◇ ⊤ ) ∨ p ) ) → ◻ ◻ ¬ p ) ) ) )\",\\\n",
    "    \"( ◇ ◇ ⊤ ∧ ( ◇ ( ◻ ⊥ ∧ p ) ∧ ◇ ( ◻ ⊥ ∧ q ) ) ) → ◇ ( ◇ p ∧ ◇ q )\",\\\n",
    "        \"( ◇ ◇ ⊤ ∧ ( ◇ ( ◻ ⊥ ∧ p ) ∧ ◇ ( ◻ ⊥ ∧ ¬ q ) ) ) → ◇ ( ◇ p ∧ ◇ ¬ q )\",\\\n",
    "            \"( ◇ ◇ ⊤ ∧ ( ◇ ( ◻ ⊥ ∧ ¬ p ) ∧ ◇ ( ◻ ⊥ ∧ q ) ) ) → ◇ ( ◇ ¬ p ∧ ◇ q )\",\\\n",
    "                \"( ◇ ◇ ⊤ ∧ ( ◇ ( ◻ ⊥ ∧ ¬ p ) ∧ ◇ ( ◻ ⊥ ∧ ¬ q ) ) ) → ◇ ( ◇ ¬ p ∧ ◇ ¬ q )\"]\n",
    "\n",
    "\n",
    "count = 1\n",
    "for s in structure[0:1]:\n",
    "    for index, row in df.iterrows():\n",
    "        if row[f'empirical_val_GL_{s}'] and row[f'empirical_val_S4_{s}']:\n",
    "            if not row[f'empirical_val_K4_{s}'] and row[\"formula\"] not in valid_but_not_yet_valid:\n",
    "                print(count, row[\"formula\"])\n",
    "                count += 1\n"
   ]
  }
 ],
 "metadata": {
  "kernelspec": {
   "display_name": "Python 3.9.1 64-bit",
   "language": "python",
   "name": "python3"
  },
  "language_info": {
   "codemirror_mode": {
    "name": "ipython",
    "version": 3
   },
   "file_extension": ".py",
   "mimetype": "text/x-python",
   "name": "python",
   "nbconvert_exporter": "python",
   "pygments_lexer": "ipython3",
   "version": "3.9.1"
  },
  "orig_nbformat": 4,
  "vscode": {
   "interpreter": {
    "hash": "a368a523ba5a00a25de60f58318ede078a18246629857802cd48bbbe3c0e8e59"
   }
  }
 },
 "nbformat": 4,
 "nbformat_minor": 2
}
