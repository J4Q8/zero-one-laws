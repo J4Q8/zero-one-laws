{
 "cells": [
  {
   "cell_type": "code",
   "execution_count": 1,
   "metadata": {},
   "outputs": [],
   "source": [
    "import pandas as pd\n",
    "import numpy as np\n",
    "df = pd.read_excel(r\"C:\\Users\\jakub\\Documents\\Bachelor AI\\Bachelor Thesis\\Code\\Analysis\\dataset.xlsx\")"
   ]
  },
  {
   "cell_type": "code",
   "execution_count": 2,
   "metadata": {},
   "outputs": [],
   "source": [
    "languages = [\"GL\", \"S4\", \"K4\"]\n",
    "structure = [\"frame\", \"model\"]\n",
    "# structure = [\"model\"] # we only need models for this\n",
    "emp_val = [f'empirical_val_{a}_{b}' for a in languages for b in structure]\n",
    "\n",
    "asymptotic = \"asymptotic_model_val\"\n",
    "asymptotic_lan = [asymptotic+f\"_{l}\" for l in languages]\n",
    "taut = \"tautology\""
   ]
  },
  {
   "cell_type": "code",
   "execution_count": 13,
   "metadata": {},
   "outputs": [
    {
     "name": "stdout",
     "output_type": "stream",
     "text": [
      "0    7516\n",
      "1     418\n",
      "Name: empirical_val_GL_frame, dtype: int64\n",
      "0    7468\n",
      "1     466\n",
      "Name: empirical_val_GL_model, dtype: int64\n",
      "0    6952\n",
      "1     178\n",
      "Name: empirical_val_S4_frame, dtype: int64\n",
      "0    6928\n",
      "1     202\n",
      "Name: empirical_val_S4_model, dtype: int64\n",
      "0    7803\n",
      "1     235\n",
      "Name: empirical_val_K4_frame, dtype: int64\n",
      "0    7751\n",
      "1     287\n",
      "Name: empirical_val_K4_model, dtype: int64\n"
     ]
    }
   ],
   "source": [
    "for l in languages:\n",
    "    tautology = taut + f'_{l}' \n",
    "    for struct in structure:\n",
    "        emp = f'empirical_val_{l}_{struct}'\n",
    "        asymptotic_l = asymptotic+f\"_{l}\"\n",
    "        df2 = df[df[tautology] != 1]\n",
    "        print(df2[emp].value_counts())\n",
    "        # print(df[df[tautology] == 0][emp].value_counts())"
   ]
  },
  {
   "cell_type": "code",
   "execution_count": 14,
   "metadata": {},
   "outputs": [
    {
     "name": "stdout",
     "output_type": "stream",
     "text": [
      "0    7934\n",
      "1     113\n",
      "Name: tautology_GL, dtype: int64\n",
      "0    7934\n",
      "1     113\n",
      "Name: tautology_GL, dtype: int64\n",
      "0    7130\n",
      "1     917\n",
      "Name: tautology_S4, dtype: int64\n",
      "0    7130\n",
      "1     917\n",
      "Name: tautology_S4, dtype: int64\n",
      "0    8038\n",
      "1       9\n",
      "Name: tautology_K4, dtype: int64\n",
      "0    8038\n",
      "1       9\n",
      "Name: tautology_K4, dtype: int64\n"
     ]
    }
   ],
   "source": [
    "for l in languages:\n",
    "    tautology = taut + f'_{l}' \n",
    "    for struct in structure:\n",
    "        emp = f'empirical_val_{l}_{struct}'\n",
    "        asymptotic_l = asymptotic+f\"_{l}\"\n",
    "        print(df[tautology].value_counts())\n",
    "        # print(df[df[tautology] == 0][emp].value_counts())"
   ]
  }
 ],
 "metadata": {
  "kernelspec": {
   "display_name": "Python 3.9.1 64-bit",
   "language": "python",
   "name": "python3"
  },
  "language_info": {
   "codemirror_mode": {
    "name": "ipython",
    "version": 3
   },
   "file_extension": ".py",
   "mimetype": "text/x-python",
   "name": "python",
   "nbconvert_exporter": "python",
   "pygments_lexer": "ipython3",
   "version": "3.9.1 (tags/v3.9.1:1e5d33e, Dec  7 2020, 17:08:21) [MSC v.1927 64 bit (AMD64)]"
  },
  "orig_nbformat": 4,
  "vscode": {
   "interpreter": {
    "hash": "a368a523ba5a00a25de60f58318ede078a18246629857802cd48bbbe3c0e8e59"
   }
  }
 },
 "nbformat": 4,
 "nbformat_minor": 2
}
